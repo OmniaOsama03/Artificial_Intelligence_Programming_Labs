{
  "nbformat": 4,
  "nbformat_minor": 0,
  "metadata": {
    "colab": {
      "provenance": [],
      "include_colab_link": true
    },
    "kernelspec": {
      "name": "python3",
      "display_name": "Python 3"
    },
    "language_info": {
      "name": "python"
    }
  },
  "cells": [
    {
      "cell_type": "markdown",
      "metadata": {
        "id": "view-in-github",
        "colab_type": "text"
      },
      "source": [
        "<a href=\"https://colab.research.google.com/github/OmniaOsama03/Artificial_Intelligence_Programming_Labs/blob/main/Lab%206.ipynb\" target=\"_parent\"><img src=\"https://colab.research.google.com/assets/colab-badge.svg\" alt=\"Open In Colab\"/></a>"
      ]
    },
    {
      "cell_type": "markdown",
      "source": [
        "#AI LAB 3\n",
        "#Omnia Osama Ahmed\n"
      ],
      "metadata": {
        "id": "2gPbe8FKwUFA"
      }
    },
    {
      "cell_type": "markdown",
      "source": [
        "The below given tasks specifically focuses on evaluating your understanding of five key data similarity metrics: Euclidean, Manhattan, Cosine, Jaccard, and Pearson Coefficient. Through a series of questions, you will demonstrate your ability to compute these metrics manually and with Python, and interpret their implications for real-world data sets. The goal is to assess your ability in identifying and applying the most appropriate similarity or distance measures to different types of data analysis scenarios."
      ],
      "metadata": {
        "id": "MRn27xwDxab1"
      }
    },
    {
      "cell_type": "code",
      "source": [
        "import numpy as np\n",
        "from scipy.spatial import distance\n",
        "from scipy.stats import pearsonr\n",
        "from sklearn.metrics import jaccard_score"
      ],
      "metadata": {
        "id": "UpLHp7yA73SL"
      },
      "execution_count": null,
      "outputs": []
    },
    {
      "cell_type": "markdown",
      "source": [
        "#Euclidean Distance"
      ],
      "metadata": {
        "id": "gygoQMtQHSn8"
      }
    },
    {
      "cell_type": "markdown",
      "source": [
        "You are given two points; point and point2\n",
        "\n",
        "a) For point1 - add coordinates x = 1st number of your id and y = 3rd number of your id\n",
        "\n",
        "b) For point 2 -add coordinates x = 4th number of your id and y = 6th number of your id\n",
        "\n",
        "c) Calculate the euclidean distance using the variable \"point3\"\n"
      ],
      "metadata": {
        "id": "hS-9RgaIp3gq"
      }
    },
    {
      "cell_type": "code",
      "source": [
        "# Coordinates of the points\n",
        "point1 = (1, 8)\n",
        "point2 = (4, 0)\n",
        "\n",
        "# Calculate Euclidean distance\n",
        "point3 = distance.euclidean(point1, point2)\n",
        "\n",
        "print(\"Euclidean Distance:\", point3)"
      ],
      "metadata": {
        "id": "HJL5Dtxu76wb",
        "colab": {
          "base_uri": "https://localhost:8080/"
        },
        "outputId": "7f6baf7d-1d34-447c-aecd-b1b202103fa1"
      },
      "execution_count": null,
      "outputs": [
        {
          "output_type": "stream",
          "name": "stdout",
          "text": [
            "Euclidean Distance: 8.54400374531753\n"
          ]
        }
      ]
    },
    {
      "cell_type": "markdown",
      "source": [
        "#Manhattan Distance"
      ],
      "metadata": {
        "id": "a0IfhpifHYJi"
      }
    },
    {
      "cell_type": "markdown",
      "source": [
        "\n",
        "a) Calculate the manhattan distance using the variable \"YOURFIRSTNAME\"\n",
        "\n",
        "b) Print the distance calculated"
      ],
      "metadata": {
        "id": "YziQfVfoqydm"
      }
    },
    {
      "cell_type": "code",
      "source": [
        "Omnia = distance.cityblock(point1, point2)\n",
        "\n",
        "# Print the result\n",
        "print(\"Manhattan Distance:\", Omnia)"
      ],
      "metadata": {
        "id": "JPwR6Hrt8Eze",
        "colab": {
          "base_uri": "https://localhost:8080/"
        },
        "outputId": "e88c5d84-89d3-4a60-aa4a-c386ad0b385b"
      },
      "execution_count": null,
      "outputs": [
        {
          "output_type": "stream",
          "name": "stdout",
          "text": [
            "Manhattan Distance: 11\n"
          ]
        }
      ]
    },
    {
      "cell_type": "markdown",
      "source": [
        "#Cosine Similarity"
      ],
      "metadata": {
        "id": "nQxDNbjkHeAJ"
      }
    },
    {
      "cell_type": "markdown",
      "source": [
        "a) Use the cosine_similarity function from scikit-learn to calculate the similarity\n",
        "\n",
        "b) Print the result"
      ],
      "metadata": {
        "id": "WNWq-KZgrJcb"
      }
    },
    {
      "cell_type": "code",
      "source": [
        "cosine = 1 - distance.cosine(point1, point2)\n",
        "\n",
        "#print the result\n",
        "print(\"Cosine Similarity: \", cosine)"
      ],
      "metadata": {
        "id": "J2_8JxPp8TsC",
        "colab": {
          "base_uri": "https://localhost:8080/"
        },
        "outputId": "5f37e993-2dd0-4768-d70d-4d1768bc618a"
      },
      "execution_count": null,
      "outputs": [
        {
          "output_type": "stream",
          "name": "stdout",
          "text": [
            "Cosine Similarity:  0.12403473458920844\n"
          ]
        }
      ]
    },
    {
      "cell_type": "markdown",
      "source": [
        "#Jaccard Similarity"
      ],
      "metadata": {
        "id": "OipCkFxUHimE"
      }
    },
    {
      "cell_type": "markdown",
      "source": [
        "You are provided with pet preferences are represented as binary arrays\n",
        "Indexes: [Dogs, Cats, Birds, Fish, Reptiles, Rodents]\n",
        "Like = 1, Dislike =0\n",
        "\n",
        "a) Saif likes Dogs, Birds, Fish and Reptiles\n",
        "\n",
        "b) Sheikha likes Birds, Fish, Cat and Rodents\n",
        "\n",
        "c)Fill in the preferences: Ensure the preferences for Saif and Shiekha are correctly provided based on the scenario description.\n",
        "\n",
        "d)Convert the lists to NumPy arrays: Use the provided statements to handle the binary data.\n",
        "\n",
        "e)Compute the Jaccard Coefficient: Use the jaccard_score function to calculate how similar the pet preferences of the two individuals are."
      ],
      "metadata": {
        "id": "cAN9oRitrtO3"
      }
    },
    {
      "cell_type": "code",
      "source": [
        "# Indexes: [Dogs, Cats, Birds, Fish, Reptiles, Rodents]\n",
        "Saif = [1, 0, 1, 1, 1, 0]\n",
        "Shiekha = [0, 1, 1, 1, 0, 1]\n",
        "\n",
        "# Convert lists to numpy arrays\n",
        "Array_Saif= np.array(Saif)\n",
        "Array_Shiekha = np.array(Shiekha)\n",
        "\n",
        "# Calculate Jaccard similarity\n",
        "jaccard_similarity = jaccard_score(Array_Saif, Array_Shiekha)\n",
        "\n",
        "\n",
        "print(\"Jaccard Coefficient:\", jaccard_similarity)"
      ],
      "metadata": {
        "id": "Ud8DFLbkSI6L",
        "colab": {
          "base_uri": "https://localhost:8080/"
        },
        "outputId": "7299331d-a613-4daf-83ad-05ffc93f9751"
      },
      "execution_count": null,
      "outputs": [
        {
          "output_type": "stream",
          "name": "stdout",
          "text": [
            "Jaccard Coefficient: 0.3333333333333333\n"
          ]
        }
      ]
    },
    {
      "cell_type": "markdown",
      "source": [
        "You are provided with the enrollments of two students in terms of the courses they have chosen. Each student's course selection is represented as a set containing the course IDs they are enrolled in. Your task is to calculate the Jaccard similarity between these two sets to quantify how similar their course selections are.\n",
        "\n",
        "a) Given sets of course enrollments\n",
        "\n",
        "b) Calculate intersection and union\n",
        "\n",
        "c) Calculate Jaccard similarity\n",
        "\n",
        "d) Print the results\n"
      ],
      "metadata": {
        "id": "UH36H_okub0u"
      }
    },
    {
      "cell_type": "code",
      "source": [
        "# Given sets of course enrollments\n",
        "student1_courses = {'CS101', 'MAT235', 'PHY112', 'HIS300'}\n",
        "student2_courses = {'CS106', 'ART150', 'MAT235', 'ENG210'}\n",
        "\n",
        "# Calculate intersection and union\n",
        "intersection = student1_courses.intersection(student2_courses)\n",
        "union = student1_courses.union(student2_courses)\n",
        "\n",
        "# Calculate Jaccard similarity\n",
        "jaccard_similarity = len(intersection) / len(union)\n",
        "\n",
        "# Print the results\n",
        "print(\"Intersection (Common Courses):\", intersection)\n",
        "print(\"Union (Total Unique Courses):\", union)\n",
        "print(\"Jaccard Similarity:\", jaccard_similarity)\n"
      ],
      "metadata": {
        "id": "2rb7p2jWPuBg",
        "colab": {
          "base_uri": "https://localhost:8080/"
        },
        "outputId": "f2e25b3d-fd74-4838-ae4b-5cd22048fb25"
      },
      "execution_count": null,
      "outputs": [
        {
          "output_type": "stream",
          "name": "stdout",
          "text": [
            "Intersection (Common Courses): {'MAT235'}\n",
            "Union (Total Unique Courses): {'MAT235', 'CS101', 'ART150', 'PHY112', 'HIS300', 'ENG210', 'CS106'}\n",
            "Jaccard Similarity: 0.14285714285714285\n"
          ]
        }
      ]
    },
    {
      "cell_type": "markdown",
      "source": [
        "#Pearson Correlation Coefficient"
      ],
      "metadata": {
        "id": "91CK73VOHqs7"
      }
    },
    {
      "cell_type": "markdown",
      "source": [
        "You are given data representing the hours worked by employees and their corresponding sales figures for a particular month. Your task is to calculate the Pearson correlation coefficient to determine the linear relationship between these two variables.\n",
        "\n",
        "a) Calculate Pearson correlation"
      ],
      "metadata": {
        "id": "wP-tuNZqvien"
      }
    },
    {
      "cell_type": "code",
      "source": [
        "# Data representing hours worked and sales figures\n",
        "hours_worked = [35, 42, 45, 50, 55, 60, 65]\n",
        "sales_figures = [300, 350, 380, 400, 420, 460, 500]\n",
        "\n",
        "# Calculate Pearson correlation\n",
        "correlation, _ = pearsonr(hours_worked, sales_figures)\n",
        "print(\"Pearson Correlation Coefficient:\", correlation)"
      ],
      "metadata": {
        "id": "iVeWKQP0b6J0",
        "colab": {
          "base_uri": "https://localhost:8080/"
        },
        "outputId": "bf2f1251-02e1-4707-bca2-fb7adbd4805d"
      },
      "execution_count": null,
      "outputs": [
        {
          "output_type": "stream",
          "name": "stdout",
          "text": [
            "Pearson Correlation Coefficient: 0.9937928695763556\n"
          ]
        }
      ]
    }
  ]
}