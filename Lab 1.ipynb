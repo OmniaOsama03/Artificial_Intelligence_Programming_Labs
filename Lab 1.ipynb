{
  "nbformat": 4,
  "nbformat_minor": 0,
  "metadata": {
    "colab": {
      "provenance": [],
      "include_colab_link": true
    },
    "kernelspec": {
      "name": "python3",
      "display_name": "Python 3"
    },
    "language_info": {
      "name": "python"
    }
  },
  "cells": [
    {
      "cell_type": "markdown",
      "metadata": {
        "id": "view-in-github",
        "colab_type": "text"
      },
      "source": [
        "<a href=\"https://colab.research.google.com/github/OmniaOsama03/Artificial_Intelligence_Programming_Labs/blob/main/Lab%201.ipynb\" target=\"_parent\"><img src=\"https://colab.research.google.com/assets/colab-badge.svg\" alt=\"Open In Colab\"/></a>"
      ]
    },
    {
      "cell_type": "markdown",
      "source": [
        "#AI Lab 1.B\n",
        "#Name: Omnia Osama Ahmed\n"
      ],
      "metadata": {
        "id": "14B9q-_08Vzo"
      }
    },
    {
      "cell_type": "markdown",
      "source": [
        "# **List Tasks**"
      ],
      "metadata": {
        "id": "GmM99YV89MEs"
      }
    },
    {
      "cell_type": "code",
      "execution_count": null,
      "metadata": {
        "id": "fLjUVFvU8MZ3",
        "colab": {
          "base_uri": "https://localhost:8080/"
        },
        "outputId": "d73cd459-51d8-4d1d-8a56-30707f7fa792"
      },
      "outputs": [
        {
          "output_type": "stream",
          "name": "stdout",
          "text": [
            "[43, 56, 49]\n"
          ]
        }
      ],
      "source": [
        "\n",
        "myList = [25, 27, 43, 56, 49]\n",
        "\n",
        "\"\"\"a) write one line to access the last three items\"\"\"\n",
        "\n",
        "print(myList[-3:])"
      ]
    },
    {
      "cell_type": "code",
      "source": [
        "\n",
        "\"\"\"#d)\tAccessing an element in a nested list.\n",
        "#access the element 7 in myList\"\"\"\n",
        "\n",
        "list1 = [1,2,3]\n",
        "list2 = [4,5,6]\n",
        "list3 = [7,8,9]\n",
        "myList = [list1,list2,list3]\n",
        "print(myList)\n",
        "\n",
        "print(\"Elemet: \", (myList[2])[0])\n"
      ],
      "metadata": {
        "id": "wnka5wJC_GfL",
        "colab": {
          "base_uri": "https://localhost:8080/"
        },
        "outputId": "cd06af8e-e7ed-4e0c-8d00-305dfc61661b"
      },
      "execution_count": null,
      "outputs": [
        {
          "output_type": "stream",
          "name": "stdout",
          "text": [
            "[[1, 2, 3], [4, 5, 6], [7, 8, 9]]\n",
            "Elemet:  7\n"
          ]
        }
      ]
    },
    {
      "cell_type": "markdown",
      "source": [
        "# **Tuples Tasks**"
      ],
      "metadata": {
        "id": "h5lw-1I__6Vw"
      }
    },
    {
      "cell_type": "code",
      "source": [
        "#Create a tuple named student_info containing three elements:\n",
        "#the student's name (as a string), age (as an integer), and grade (as a string).\n",
        "#Print each piece of information separately using indexing.\n",
        "\n",
        "\n",
        "student_info = (\"Omnia\", 20, \"A\")\n",
        "\n",
        "print(\"Student Name: \", student_info[0], \"\\nAge: \", student_info[1], \"\\nGrade: \", student_info[2])"
      ],
      "metadata": {
        "id": "CSYmi0XPZo9P",
        "colab": {
          "base_uri": "https://localhost:8080/"
        },
        "outputId": "4cc49d06-e48f-442b-ae1c-dd022838379d"
      },
      "execution_count": null,
      "outputs": [
        {
          "output_type": "stream",
          "name": "stdout",
          "text": [
            "Student Name:  Omnia \n",
            "Age:  20 \n",
            "Grade:  A\n"
          ]
        }
      ]
    },
    {
      "cell_type": "markdown",
      "source": [
        "#**Sets Tasks**"
      ],
      "metadata": {
        "id": "Y_TiXuWvAnpP"
      }
    },
    {
      "cell_type": "code",
      "source": [
        "\"\"\"#a)\tCreate a set of your favorite fruits. \"\"\"\n",
        "\n",
        "basket = {\"Pineapple\", \"Melon\", \"Strawberry\", \"Pineapple\", \"Strawberry\"}\n",
        "\n",
        "print(\"My set with added duplicates: \" , basket)\n",
        "\n"
      ],
      "metadata": {
        "id": "J9bcKjeNAjmJ",
        "colab": {
          "base_uri": "https://localhost:8080/"
        },
        "outputId": "1a94f3db-6050-4373-9025-6e816ece6238"
      },
      "execution_count": null,
      "outputs": [
        {
          "output_type": "stream",
          "name": "stdout",
          "text": [
            "My set with added duplicates:  {'Strawberry', 'Melon', 'Pineapple'}\n"
          ]
        }
      ]
    },
    {
      "cell_type": "markdown",
      "source": [
        "#**Dictionary Tasks**"
      ],
      "metadata": {
        "id": "PfCO3M_oEjcz"
      }
    },
    {
      "cell_type": "markdown",
      "source": [
        "![Capture.PNG](data:image/png;base64,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)"
      ],
      "metadata": {
        "id": "HYCvv8PPFtIG"
      }
    },
    {
      "cell_type": "code",
      "source": [
        "\"\"\"#a)Create a dictionary from using the above table:\"\"\"\n",
        "#... write the ans here\n",
        "Grades = {'Ahmed':'A+', 'Osama' : 'C', 'Ali' : 'B', 'Mike' : 'D', 'Shamma' : 'A'}"
      ],
      "metadata": {
        "id": "oWUMdMj2Efvp"
      },
      "execution_count": null,
      "outputs": []
    },
    {
      "cell_type": "code",
      "source": [
        "\"\"\"#Access Mike Grade?\"\"\"\n",
        "print(\"Mike's Grade: \", Grades.get('Mike'))"
      ],
      "metadata": {
        "id": "bdgp4ADQExPx",
        "colab": {
          "base_uri": "https://localhost:8080/"
        },
        "outputId": "2a521b0f-3524-4388-e386-741f774dad26"
      },
      "execution_count": null,
      "outputs": [
        {
          "output_type": "stream",
          "name": "stdout",
          "text": [
            "Mike's Grade:  D\n"
          ]
        }
      ]
    },
    {
      "cell_type": "code",
      "source": [
        "\n",
        "\"\"\"#Update or add an item to the previous dictionary. Add your name and grade.\n",
        "#Solution\"\"\"\n",
        "\n",
        "Grades[\"Omnia\"] = 'A+' #to add\n",
        "Grades['Osama'] = 'A+' #to update\n",
        "\n",
        "\n",
        "print(Grades)"
      ],
      "metadata": {
        "id": "8QF_FKHaRkw8",
        "colab": {
          "base_uri": "https://localhost:8080/"
        },
        "outputId": "e081e7cf-aac9-43ce-b20e-b14a1199d76d"
      },
      "execution_count": null,
      "outputs": [
        {
          "output_type": "stream",
          "name": "stdout",
          "text": [
            "{'Ahmed': 'A+', 'Osama': 'A+', 'Ali': 'B', 'Mike': 'D', 'Shamma': 'A', 'Omnia': 'A+'}\n"
          ]
        }
      ]
    },
    {
      "cell_type": "markdown",
      "source": [
        "#**Classes Task**"
      ],
      "metadata": {
        "id": "g5B4pJvNFQuc"
      }
    },
    {
      "cell_type": "code",
      "source": [
        "\"\"\"Given the Student class. Create two objects two instances student1, student2 and assign given values to the said instances attributes.\n",
        " Print all the attributes of student1, student2 instances with their values in the given format\"\"\"\n",
        "class Student:\n",
        "    student_id= 0\n",
        "    student_name=\"\"\n",
        "\n",
        "    def display(text):\n",
        "      res = \"my name is {} and my ID is {}\"\n",
        "      print(res.format(text.student_name, text.student_id))\n",
        "\n",
        "#write the ans here\n",
        "s1 = Student();\n",
        "s1.student_id = 1084505;\n",
        "s1.student_name = \"Omnia\";\n",
        "\n",
        "s2 = Student();\n",
        "s2.student_id = 1085099;\n",
        "s2.student_name = \"Fatma\"\n",
        "\n",
        "#call the display method\n",
        "s1.display();\n",
        "s2.display();"
      ],
      "metadata": {
        "id": "UsMCEZEhFWtb",
        "colab": {
          "base_uri": "https://localhost:8080/"
        },
        "outputId": "1a03da33-af6f-447a-9b29-f94e4b97de42"
      },
      "execution_count": null,
      "outputs": [
        {
          "output_type": "stream",
          "name": "stdout",
          "text": [
            "my name is Omnia and my ID is 1084505\n",
            "my name is Fatma and my ID is 1085099\n"
          ]
        }
      ]
    },
    {
      "cell_type": "markdown",
      "source": [
        "#**Dataframes Tasks**"
      ],
      "metadata": {
        "id": "zDl3XCXjGAG-"
      }
    },
    {
      "cell_type": "code",
      "source": [
        "import pandas as pd\n",
        "\n",
        "# Define the dictionary\n",
        "grades_dict = {\n",
        "    # Student IDs\n",
        "    'student_id': [101, 102, 103, 104, 105],\n",
        "    # Math grades\n",
        "    'math_grade': [85, 90, 78, 88, 92],\n",
        "    # English grades\n",
        "    'english_grade': [75, 80, 85, 90, 95]\n",
        "}\n",
        "\n",
        "# Convert the dictionary into a DataFrame\n",
        "# Replace the '...' with the appropriate code to convert the dictionary into a DataFrame\n",
        "grades_df = pd.DataFrame(grades_dict);\n",
        "\n",
        "# Display the DataFrame\n",
        "# Replace the '...' with the appropriate code to display the DataFrame\n",
        "print(grades_df)\n"
      ],
      "metadata": {
        "id": "1ERN9_Wscuy5",
        "colab": {
          "base_uri": "https://localhost:8080/"
        },
        "outputId": "5864b20c-32d8-4f50-de9f-b999a35183ee"
      },
      "execution_count": null,
      "outputs": [
        {
          "output_type": "stream",
          "name": "stdout",
          "text": [
            "   student_id  math_grade  english_grade\n",
            "0         101          85             75\n",
            "1         102          90             80\n",
            "2         103          78             85\n",
            "3         104          88             90\n",
            "4         105          92             95\n"
          ]
        }
      ]
    },
    {
      "cell_type": "code",
      "source": [
        "'''\n",
        "Define a Python dictionary named employee_salaries containing three key-value pairs: 'employee_id', 'department', and 'salary'.\n",
        "Assign appropriate values to each key representing employee IDs, departments, and salaries.\n",
        "Import the Pandas library using import pandas as pd.\n",
        "\n",
        "Convert the employee_salaries dictionary into a Pandas DataFrame named df_employee_salaries using the pd.DataFrame() function.\n",
        "Print the DataFrame df_employee_salaries to display the entire dataset.\n",
        "Use the .head(5) method to return the first five rows of the DataFrame and print them out.\n",
        "Test your script to ensure it correctly displays the dataset and returns the first five rows.\n",
        "'''\n",
        "\n",
        "\n",
        "\n",
        "\n",
        "import pandas as pd\n",
        "\n",
        "employee_salaries ={\n",
        "    'employee_id' : [1084505, 1085099, 1087070, 1090909, 1099999, 1033840, 2084458],\n",
        "    'department' : [\"Comp Sci & IT\", \"Civil Engineering\", \"Chemical Engineering\", \"Architecture\", \"Aviation\", \"Mechanical & Industrial\", \"Biomedical Engineering\"],\n",
        "    'salary' : [15000, 14000, 17000, 10000, 5000, 6000, 8000]\n",
        "}\n",
        "\n",
        "# Convert the dataset into a DataFrame\n",
        "df_employee_salaries = pd.DataFrame(employee_salaries)\n",
        "\n",
        "# Print the DataFrame\n",
        "print(\"COMPLETE DATAFRAME: \\n\")\n",
        "print(df_employee_salaries)\n",
        "\n",
        "# Return the first five rows\n",
        "print(\"\\nFIRST 5 ROWS: \\n\")\n",
        "print(df_employee_salaries.head(5))"
      ],
      "metadata": {
        "id": "0RRDlXmqc9iL",
        "colab": {
          "base_uri": "https://localhost:8080/"
        },
        "outputId": "597d8102-0c66-4b59-c96a-b963ada8b55f"
      },
      "execution_count": null,
      "outputs": [
        {
          "output_type": "stream",
          "name": "stdout",
          "text": [
            "COMPLETE DATAFRAME: \n",
            "\n",
            "   employee_id               department  salary\n",
            "0      1084505            Comp Sci & IT   15000\n",
            "1      1085099        Civil Engineering   14000\n",
            "2      1087070     Chemical Engineering   17000\n",
            "3      1090909             Architecture   10000\n",
            "4      1099999                 Aviation    5000\n",
            "5      1033840  Mechanical & Industrial    6000\n",
            "6      2084458   Biomedical Engineering    8000\n",
            "\n",
            "FIRST 5 ROWS: \n",
            "\n",
            "   employee_id            department  salary\n",
            "0      1084505         Comp Sci & IT   15000\n",
            "1      1085099     Civil Engineering   14000\n",
            "2      1087070  Chemical Engineering   17000\n",
            "3      1090909          Architecture   10000\n",
            "4      1099999              Aviation    5000\n"
          ]
        }
      ]
    }
  ]
}
