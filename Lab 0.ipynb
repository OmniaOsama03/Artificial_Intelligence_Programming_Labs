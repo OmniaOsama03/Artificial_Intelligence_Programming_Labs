{
  "nbformat": 4,
  "nbformat_minor": 0,
  "metadata": {
    "colab": {
      "provenance": [],
      "authorship_tag": "ABX9TyP6tFBPdt61+W0412UjV1kw",
      "include_colab_link": true
    },
    "kernelspec": {
      "name": "python3",
      "display_name": "Python 3"
    },
    "language_info": {
      "name": "python"
    }
  },
  "cells": [
    {
      "cell_type": "markdown",
      "metadata": {
        "id": "view-in-github",
        "colab_type": "text"
      },
      "source": [
        "<a href=\"https://colab.research.google.com/github/OmniaOsama03/Artificial_Intelligence_Programming_Labs/blob/main/CSC406_Lab0.ipynb\" target=\"_parent\"><img src=\"https://colab.research.google.com/assets/colab-badge.svg\" alt=\"Open In Colab\"/></a>"
      ]
    },
    {
      "cell_type": "markdown",
      "source": [
        "CSC406 Lab 0 - Introduction to Google Colab\n",
        "\n",
        "Name:  Omnia Osama Ahmed\n",
        "\n"
      ],
      "metadata": {
        "id": "ykhT-JIULqyR"
      }
    },
    {
      "cell_type": "code",
      "source": [
        "print(\"Omnia\")\n"
      ],
      "metadata": {
        "colab": {
          "base_uri": "https://localhost:8080/"
        },
        "id": "ccwZfpu8M8Tj",
        "outputId": "e62f8ea2-00ae-474c-f926-bb3476014006"
      },
      "execution_count": null,
      "outputs": [
        {
          "output_type": "stream",
          "name": "stdout",
          "text": [
            "Omnia\n",
            "1084505\n"
          ]
        }
      ]
    },
    {
      "cell_type": "code",
      "source": [
        "print(\"Hello World\")"
      ],
      "metadata": {
        "colab": {
          "base_uri": "https://localhost:8080/"
        },
        "id": "A2NdARIUNRNw",
        "outputId": "efef209d-2279-4554-8597-d45212d86c57"
      },
      "execution_count": null,
      "outputs": [
        {
          "output_type": "stream",
          "name": "stdout",
          "text": [
            "Hello World\n"
          ]
        }
      ]
    },
    {
      "cell_type": "code",
      "source": [
        "print(\"This is my first Python code\")"
      ],
      "metadata": {
        "colab": {
          "base_uri": "https://localhost:8080/"
        },
        "id": "34qQH3qRNneX",
        "outputId": "e61d55fa-f581-42bd-bb3c-bf8f994189d6"
      },
      "execution_count": null,
      "outputs": [
        {
          "output_type": "stream",
          "name": "stdout",
          "text": [
            "This is my first Python code\n"
          ]
        }
      ]
    },
    {
      "cell_type": "code",
      "source": [
        "print(\"My name is Omnia Osama Ahmed.\")"
      ],
      "metadata": {
        "colab": {
          "base_uri": "https://localhost:8080/"
        },
        "id": "AfkCZOmwNrX6",
        "outputId": "60a843c2-5b8d-466c-f727-51de6a8de2a2"
      },
      "execution_count": null,
      "outputs": [
        {
          "output_type": "stream",
          "name": "stdout",
          "text": [
            "My name is Omnia Osama Ahmed.\n"
          ]
        }
      ]
    },
    {
      "cell_type": "code",
      "source": [],
      "metadata": {
        "id": "EeiMAnmoPCVl"
      },
      "execution_count": null,
      "outputs": []
    },
    {
      "cell_type": "code",
      "source": [
        "# @title Example form fields\n",
        "# @markdown Forms support many types of fields.\n",
        "\n",
        "no_type_checking = ''  # @param\n",
        "string_type = 'example'  # @param {type: \"string\"}\n",
        "slider_value = 142  # @param {type: \"slider\", min: 100, max: 200}\n",
        "number = 102  # @param {type: \"number\"}\n",
        "date = '2010-11-05'  # @param {type: \"date\"}\n",
        "pick_me = \"monday\"  # @param ['monday', 'tuesday', 'wednesday', 'thursday']\n",
        "select_or_input = \"apples\" # @param [\"apples\", \"bananas\", \"oranges\"] {allow-input: true}\n",
        "# @markdown ---\n"
      ],
      "metadata": {
        "id": "XJKJ8qUNPeVP"
      },
      "execution_count": null,
      "outputs": []
    },
    {
      "cell_type": "code",
      "source": [
        "a = 10\n",
        "b = 0o5      #Last digits are 05. There's a leading 0, which isn't permitted, so I added an 0o prefix.\n",
        "\n",
        "#Addition\n",
        "sum = a + b\n",
        "print(\"SUM: \", sum)\n",
        "\n",
        "#Subtraction\n",
        "difference = a - b\n",
        "print(\"SUBTRACTION: \", difference)\n",
        "\n",
        "#Multilplication\n",
        "product = a * b\n",
        "print(\"PRODUCT: \", product)\n",
        "\n",
        "#Division\n",
        "quotient = a / b\n",
        "print(\"QUOTIENT: \", quotient)"
      ],
      "metadata": {
        "colab": {
          "base_uri": "https://localhost:8080/"
        },
        "id": "WGmY3LmfRe5V",
        "outputId": "fbb5fa1e-a0a9-4b5d-f189-b69d40c36348"
      },
      "execution_count": null,
      "outputs": [
        {
          "output_type": "stream",
          "name": "stdout",
          "text": [
            "SUM:  15\n",
            "SUBTRACTION:  5\n",
            "PRODUCT:  50\n",
            "QUOTIENT:  2.0\n"
          ]
        }
      ]
    },
    {
      "cell_type": "code",
      "source": [
        "x = 8\n",
        "y = 5\n",
        "\n",
        "for a in range(1, x):\n",
        "  product = a * y\n",
        "  print(\"Iteration\", a, \": \", a, \" * \", y, \" = \", product)"
      ],
      "metadata": {
        "colab": {
          "base_uri": "https://localhost:8080/"
        },
        "id": "ruIYeGfpRl6s",
        "outputId": "c2bcbb85-2cf8-492e-cd35-707b095f2316"
      },
      "execution_count": null,
      "outputs": [
        {
          "output_type": "stream",
          "name": "stdout",
          "text": [
            "Iteration 1 :  1  *  5  =  5\n",
            "Iteration 2 :  2  *  5  =  10\n",
            "Iteration 3 :  3  *  5  =  15\n",
            "Iteration 4 :  4  *  5  =  20\n",
            "Iteration 5 :  5  *  5  =  25\n",
            "Iteration 6 :  6  *  5  =  30\n",
            "Iteration 7 :  7  *  5  =  35\n"
          ]
        }
      ]
    },
    {
      "cell_type": "code",
      "source": [
        "x = '4'\n",
        "id = \"1084505\"\n",
        "\n",
        "if x in id:\n",
        "  print(x, \" is in my ID\")\n",
        "else:\n",
        "  print(x, \"is not in my ID\")\n",
        "\n",
        "\n"
      ],
      "metadata": {
        "colab": {
          "base_uri": "https://localhost:8080/"
        },
        "id": "3IglrynsU2P9",
        "outputId": "40b3d0a6-a977-4cf3-9e01-3df39481d26c"
      },
      "execution_count": null,
      "outputs": [
        {
          "output_type": "stream",
          "name": "stdout",
          "text": [
            "4  is in my ID\n"
          ]
        }
      ]
    }
  ]
}
